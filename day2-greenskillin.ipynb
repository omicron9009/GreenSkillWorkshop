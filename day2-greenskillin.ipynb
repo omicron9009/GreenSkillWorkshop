{
 "cells": [
  {
   "cell_type": "code",
   "execution_count": 1,
   "metadata": {},
   "outputs": [
    {
     "name": "stdout",
     "output_type": "stream",
     "text": [
      "True\n"
     ]
    }
   ],
   "source": [
    "leap_year = lambda year : (year % 4 == 0 and year % 100 != 0 )or (year % 400 == 0 )\n",
    "year = 2024 \n",
    "print(leap_year(year))"
   ]
  },
  {
   "cell_type": "code",
   "execution_count": 2,
   "metadata": {},
   "outputs": [],
   "source": [
    "\n",
    "# data \n",
    "data = {\n",
    "    \"Project\": [\"Solar Farm A\", \"Wind Turbine X\", \"Hydropower Y\", \"Solar Roof Z\", \"Geothermal Plant P\"],\n",
    "    \"Technology\": [\"Solar\", \"Wind\", \"Hydropower\", \"Solar\", \"Geothermal\"],\n",
    "    \"Capacity (MW)\": [150, 300, 200, 50, 100],  # Megawatts\n",
    "    \"Cost (Million $)\": [200, 400, 350, 100, 250],  # Project cost\n",
    "    \"Location\": [\"California\", \"Texas\", \"Washington\", \"Nevada\", \"Idaho\"],\n",
    "    \"Completion Year\": [2023, 2024, 2022, 2025, 2023]\n",
    "}"
   ]
  },
  {
   "cell_type": "code",
   "execution_count": 3,
   "metadata": {},
   "outputs": [],
   "source": [
    "import pandas as pd \n",
    "renuable_resources=[\"Solar\",\"Wind\",\"Hydropower\",\"Geothermal\",\"Biomass\" ]\n"
   ]
  },
  {
   "cell_type": "code",
   "execution_count": 4,
   "metadata": {},
   "outputs": [
    {
     "name": "stdout",
     "output_type": "stream",
     "text": [
      "Renewable Resources : \n",
      "0         Solar\n",
      "1          Wind\n",
      "2    Hydropower\n",
      "3    Geothermal\n",
      "4       Biomass\n",
      "dtype: object\n"
     ]
    }
   ],
   "source": [
    "renuable_series=pd.Series(renuable_resources)\n",
    "print(\"Renewable Resources : \")\n",
    "print(renuable_series)"
   ]
  },
  {
   "cell_type": "code",
   "execution_count": 5,
   "metadata": {},
   "outputs": [
    {
     "data": {
      "text/html": [
       "<div>\n",
       "<style scoped>\n",
       "    .dataframe tbody tr th:only-of-type {\n",
       "        vertical-align: middle;\n",
       "    }\n",
       "\n",
       "    .dataframe tbody tr th {\n",
       "        vertical-align: top;\n",
       "    }\n",
       "\n",
       "    .dataframe thead th {\n",
       "        text-align: right;\n",
       "    }\n",
       "</style>\n",
       "<table border=\"1\" class=\"dataframe\">\n",
       "  <thead>\n",
       "    <tr style=\"text-align: right;\">\n",
       "      <th></th>\n",
       "      <th>Project</th>\n",
       "      <th>Technology</th>\n",
       "      <th>Capacity (MW)</th>\n",
       "      <th>Cost (Million $)</th>\n",
       "      <th>Location</th>\n",
       "      <th>Completion Year</th>\n",
       "    </tr>\n",
       "  </thead>\n",
       "  <tbody>\n",
       "    <tr>\n",
       "      <th>0</th>\n",
       "      <td>Solar Farm A</td>\n",
       "      <td>Solar</td>\n",
       "      <td>150</td>\n",
       "      <td>200</td>\n",
       "      <td>California</td>\n",
       "      <td>2023</td>\n",
       "    </tr>\n",
       "    <tr>\n",
       "      <th>1</th>\n",
       "      <td>Wind Turbine X</td>\n",
       "      <td>Wind</td>\n",
       "      <td>300</td>\n",
       "      <td>400</td>\n",
       "      <td>Texas</td>\n",
       "      <td>2024</td>\n",
       "    </tr>\n",
       "    <tr>\n",
       "      <th>2</th>\n",
       "      <td>Hydropower Y</td>\n",
       "      <td>Hydropower</td>\n",
       "      <td>200</td>\n",
       "      <td>350</td>\n",
       "      <td>Washington</td>\n",
       "      <td>2022</td>\n",
       "    </tr>\n",
       "    <tr>\n",
       "      <th>3</th>\n",
       "      <td>Solar Roof Z</td>\n",
       "      <td>Solar</td>\n",
       "      <td>50</td>\n",
       "      <td>100</td>\n",
       "      <td>Nevada</td>\n",
       "      <td>2025</td>\n",
       "    </tr>\n",
       "    <tr>\n",
       "      <th>4</th>\n",
       "      <td>Geothermal Plant P</td>\n",
       "      <td>Geothermal</td>\n",
       "      <td>100</td>\n",
       "      <td>250</td>\n",
       "      <td>Idaho</td>\n",
       "      <td>2023</td>\n",
       "    </tr>\n",
       "  </tbody>\n",
       "</table>\n",
       "</div>"
      ],
      "text/plain": [
       "              Project  Technology  Capacity (MW)  Cost (Million $)  \\\n",
       "0        Solar Farm A       Solar            150               200   \n",
       "1      Wind Turbine X        Wind            300               400   \n",
       "2        Hydropower Y  Hydropower            200               350   \n",
       "3        Solar Roof Z       Solar             50               100   \n",
       "4  Geothermal Plant P  Geothermal            100               250   \n",
       "\n",
       "     Location  Completion Year  \n",
       "0  California             2023  \n",
       "1       Texas             2024  \n",
       "2  Washington             2022  \n",
       "3      Nevada             2025  \n",
       "4       Idaho             2023  "
      ]
     },
     "execution_count": 5,
     "metadata": {},
     "output_type": "execute_result"
    }
   ],
   "source": [
    "projects_df=pd.DataFrame(data)\n",
    "projects_df.head()"
   ]
  },
  {
   "cell_type": "code",
   "execution_count": 7,
   "metadata": {},
   "outputs": [
    {
     "data": {
      "text/plain": [
       "(5, 6)"
      ]
     },
     "execution_count": 7,
     "metadata": {},
     "output_type": "execute_result"
    }
   ],
   "source": [
    "projects_df.shape"
   ]
  },
  {
   "cell_type": "code",
   "execution_count": 26,
   "metadata": {},
   "outputs": [
    {
     "data": {
      "text/html": [
       "<div>\n",
       "<style scoped>\n",
       "    .dataframe tbody tr th:only-of-type {\n",
       "        vertical-align: middle;\n",
       "    }\n",
       "\n",
       "    .dataframe tbody tr th {\n",
       "        vertical-align: top;\n",
       "    }\n",
       "\n",
       "    .dataframe thead th {\n",
       "        text-align: right;\n",
       "    }\n",
       "</style>\n",
       "<table border=\"1\" class=\"dataframe\">\n",
       "  <thead>\n",
       "    <tr style=\"text-align: right;\">\n",
       "      <th></th>\n",
       "      <th>Project</th>\n",
       "      <th>Technology</th>\n",
       "      <th>Capacity (MW)</th>\n",
       "      <th>Cost (Million $)</th>\n",
       "      <th>Location</th>\n",
       "      <th>Completion Year</th>\n",
       "    </tr>\n",
       "  </thead>\n",
       "  <tbody>\n",
       "    <tr>\n",
       "      <th>2</th>\n",
       "      <td>Hydropower Y</td>\n",
       "      <td>Hydropower</td>\n",
       "      <td>200</td>\n",
       "      <td>350</td>\n",
       "      <td>Washington</td>\n",
       "      <td>2022</td>\n",
       "    </tr>\n",
       "    <tr>\n",
       "      <th>3</th>\n",
       "      <td>Solar Roof Z</td>\n",
       "      <td>Solar</td>\n",
       "      <td>50</td>\n",
       "      <td>100</td>\n",
       "      <td>Nevada</td>\n",
       "      <td>2025</td>\n",
       "    </tr>\n",
       "  </tbody>\n",
       "</table>\n",
       "</div>"
      ],
      "text/plain": [
       "        Project  Technology  Capacity (MW)  Cost (Million $)    Location  \\\n",
       "2  Hydropower Y  Hydropower            200               350  Washington   \n",
       "3  Solar Roof Z       Solar             50               100      Nevada   \n",
       "\n",
       "   Completion Year  \n",
       "2             2022  \n",
       "3             2025  "
      ]
     },
     "execution_count": 26,
     "metadata": {},
     "output_type": "execute_result"
    }
   ],
   "source": [
    "projects_df[2:4]"
   ]
  },
  {
   "cell_type": "code",
   "execution_count": 32,
   "metadata": {},
   "outputs": [
    {
     "data": {
      "text/html": [
       "<div>\n",
       "<style scoped>\n",
       "    .dataframe tbody tr th:only-of-type {\n",
       "        vertical-align: middle;\n",
       "    }\n",
       "\n",
       "    .dataframe tbody tr th {\n",
       "        vertical-align: top;\n",
       "    }\n",
       "\n",
       "    .dataframe thead th {\n",
       "        text-align: right;\n",
       "    }\n",
       "</style>\n",
       "<table border=\"1\" class=\"dataframe\">\n",
       "  <thead>\n",
       "    <tr style=\"text-align: right;\">\n",
       "      <th></th>\n",
       "      <th>Project</th>\n",
       "      <th>Technology</th>\n",
       "      <th>Capacity (MW)</th>\n",
       "      <th>Cost (Million $)</th>\n",
       "      <th>Location</th>\n",
       "      <th>Completion Year</th>\n",
       "    </tr>\n",
       "  </thead>\n",
       "  <tbody>\n",
       "    <tr>\n",
       "      <th>1</th>\n",
       "      <td>Wind Turbine X</td>\n",
       "      <td>Wind</td>\n",
       "      <td>300</td>\n",
       "      <td>400</td>\n",
       "      <td>Texas</td>\n",
       "      <td>2024</td>\n",
       "    </tr>\n",
       "    <tr>\n",
       "      <th>2</th>\n",
       "      <td>Hydropower Y</td>\n",
       "      <td>Hydropower</td>\n",
       "      <td>200</td>\n",
       "      <td>350</td>\n",
       "      <td>Washington</td>\n",
       "      <td>2022</td>\n",
       "    </tr>\n",
       "  </tbody>\n",
       "</table>\n",
       "</div>"
      ],
      "text/plain": [
       "          Project  Technology  Capacity (MW)  Cost (Million $)    Location  \\\n",
       "1  Wind Turbine X        Wind            300               400       Texas   \n",
       "2    Hydropower Y  Hydropower            200               350  Washington   \n",
       "\n",
       "   Completion Year  \n",
       "1             2024  \n",
       "2             2022  "
      ]
     },
     "execution_count": 32,
     "metadata": {},
     "output_type": "execute_result"
    }
   ],
   "source": [
    "projects_df.iloc[[1,2]]"
   ]
  },
  {
   "cell_type": "code",
   "execution_count": 33,
   "metadata": {},
   "outputs": [
    {
     "name": "stdout",
     "output_type": "stream",
     "text": [
      "<class 'pandas.core.frame.DataFrame'>\n",
      "RangeIndex: 5 entries, 0 to 4\n",
      "Data columns (total 6 columns):\n",
      " #   Column            Non-Null Count  Dtype \n",
      "---  ------            --------------  ----- \n",
      " 0   Project           5 non-null      object\n",
      " 1   Technology        5 non-null      object\n",
      " 2   Capacity (MW)     5 non-null      int64 \n",
      " 3   Cost (Million $)  5 non-null      int64 \n",
      " 4   Location          5 non-null      object\n",
      " 5   Completion Year   5 non-null      int64 \n",
      "dtypes: int64(3), object(3)\n",
      "memory usage: 372.0+ bytes\n"
     ]
    }
   ],
   "source": [
    "projects_df.info()"
   ]
  },
  {
   "cell_type": "code",
   "execution_count": 36,
   "metadata": {},
   "outputs": [
    {
     "data": {
      "text/html": [
       "<div>\n",
       "<style scoped>\n",
       "    .dataframe tbody tr th:only-of-type {\n",
       "        vertical-align: middle;\n",
       "    }\n",
       "\n",
       "    .dataframe tbody tr th {\n",
       "        vertical-align: top;\n",
       "    }\n",
       "\n",
       "    .dataframe thead th {\n",
       "        text-align: right;\n",
       "    }\n",
       "</style>\n",
       "<table border=\"1\" class=\"dataframe\">\n",
       "  <thead>\n",
       "    <tr style=\"text-align: right;\">\n",
       "      <th></th>\n",
       "      <th>Capacity (MW)</th>\n",
       "      <th>Cost (Million $)</th>\n",
       "      <th>Completion Year</th>\n",
       "    </tr>\n",
       "  </thead>\n",
       "  <tbody>\n",
       "    <tr>\n",
       "      <th>count</th>\n",
       "      <td>5.00000</td>\n",
       "      <td>5.000000</td>\n",
       "      <td>5.000000</td>\n",
       "    </tr>\n",
       "    <tr>\n",
       "      <th>mean</th>\n",
       "      <td>160.00000</td>\n",
       "      <td>260.000000</td>\n",
       "      <td>2023.400000</td>\n",
       "    </tr>\n",
       "    <tr>\n",
       "      <th>std</th>\n",
       "      <td>96.17692</td>\n",
       "      <td>119.373364</td>\n",
       "      <td>1.140175</td>\n",
       "    </tr>\n",
       "    <tr>\n",
       "      <th>min</th>\n",
       "      <td>50.00000</td>\n",
       "      <td>100.000000</td>\n",
       "      <td>2022.000000</td>\n",
       "    </tr>\n",
       "    <tr>\n",
       "      <th>25%</th>\n",
       "      <td>100.00000</td>\n",
       "      <td>200.000000</td>\n",
       "      <td>2023.000000</td>\n",
       "    </tr>\n",
       "    <tr>\n",
       "      <th>50%</th>\n",
       "      <td>150.00000</td>\n",
       "      <td>250.000000</td>\n",
       "      <td>2023.000000</td>\n",
       "    </tr>\n",
       "    <tr>\n",
       "      <th>75%</th>\n",
       "      <td>200.00000</td>\n",
       "      <td>350.000000</td>\n",
       "      <td>2024.000000</td>\n",
       "    </tr>\n",
       "    <tr>\n",
       "      <th>max</th>\n",
       "      <td>300.00000</td>\n",
       "      <td>400.000000</td>\n",
       "      <td>2025.000000</td>\n",
       "    </tr>\n",
       "  </tbody>\n",
       "</table>\n",
       "</div>"
      ],
      "text/plain": [
       "       Capacity (MW)  Cost (Million $)  Completion Year\n",
       "count        5.00000          5.000000         5.000000\n",
       "mean       160.00000        260.000000      2023.400000\n",
       "std         96.17692        119.373364         1.140175\n",
       "min         50.00000        100.000000      2022.000000\n",
       "25%        100.00000        200.000000      2023.000000\n",
       "50%        150.00000        250.000000      2023.000000\n",
       "75%        200.00000        350.000000      2024.000000\n",
       "max        300.00000        400.000000      2025.000000"
      ]
     },
     "execution_count": 36,
     "metadata": {},
     "output_type": "execute_result"
    }
   ],
   "source": [
    "projects_df.describe()"
   ]
  },
  {
   "cell_type": "code",
   "execution_count": 41,
   "metadata": {},
   "outputs": [
    {
     "name": "stdout",
     "output_type": "stream",
     "text": [
      "160.0\n"
     ]
    }
   ],
   "source": [
    "mean1=projects_df[\"Capacity (MW)\"].mean()\n",
    "print(mean1)"
   ]
  },
  {
   "cell_type": "code",
   "execution_count": 54,
   "metadata": {},
   "outputs": [
    {
     "name": "stdout",
     "output_type": "stream",
     "text": [
      "150\n",
      "300\n",
      "200\n",
      "50\n",
      "100\n",
      "5\n",
      "7400.0\n",
      "800\n"
     ]
    }
   ],
   "source": [
    "sum1=0\n",
    "sum2=0\n",
    "for i in projects_df[\"Capacity (MW)\"]:\n",
    "    print(i)\n",
    "    sum2=sum2+i\n",
    "    sum1=sum1 + ((mean1 - i )**2)\n",
    "# print(len(projects_df[\"Capacity (MW)\"]))\n",
    "var=sum1/len(projects_df[\"Capacity (MW)\"])\n",
    "print(var)\n",
    "print(sum2)"
   ]
  },
  {
   "cell_type": "code",
   "execution_count": 44,
   "metadata": {},
   "outputs": [],
   "source": [
    "import math"
   ]
  },
  {
   "cell_type": "code",
   "execution_count": 46,
   "metadata": {},
   "outputs": [
    {
     "name": "stdout",
     "output_type": "stream",
     "text": [
      "86.02325267042627\n"
     ]
    }
   ],
   "source": [
    "print(math.sqrt(var))"
   ]
  },
  {
   "cell_type": "code",
   "execution_count": 63,
   "metadata": {},
   "outputs": [
    {
     "data": {
      "text/html": [
       "<div>\n",
       "<style scoped>\n",
       "    .dataframe tbody tr th:only-of-type {\n",
       "        vertical-align: middle;\n",
       "    }\n",
       "\n",
       "    .dataframe tbody tr th {\n",
       "        vertical-align: top;\n",
       "    }\n",
       "\n",
       "    .dataframe thead th {\n",
       "        text-align: right;\n",
       "    }\n",
       "</style>\n",
       "<table border=\"1\" class=\"dataframe\">\n",
       "  <thead>\n",
       "    <tr style=\"text-align: right;\">\n",
       "      <th></th>\n",
       "      <th>Project</th>\n",
       "      <th>Technology</th>\n",
       "      <th>Capacity (MW)</th>\n",
       "      <th>Cost (Million $)</th>\n",
       "      <th>Location</th>\n",
       "      <th>Completion Year</th>\n",
       "    </tr>\n",
       "  </thead>\n",
       "  <tbody>\n",
       "    <tr>\n",
       "      <th>0</th>\n",
       "      <td>Solar Farm A</td>\n",
       "      <td>Solar</td>\n",
       "      <td>150</td>\n",
       "      <td>200</td>\n",
       "      <td>California</td>\n",
       "      <td>2023</td>\n",
       "    </tr>\n",
       "    <tr>\n",
       "      <th>1</th>\n",
       "      <td>Wind Turbine X</td>\n",
       "      <td>Wind</td>\n",
       "      <td>300</td>\n",
       "      <td>400</td>\n",
       "      <td>Texas</td>\n",
       "      <td>2024</td>\n",
       "    </tr>\n",
       "    <tr>\n",
       "      <th>2</th>\n",
       "      <td>Hydropower Y</td>\n",
       "      <td>Hydropower</td>\n",
       "      <td>200</td>\n",
       "      <td>350</td>\n",
       "      <td>Washington</td>\n",
       "      <td>2022</td>\n",
       "    </tr>\n",
       "  </tbody>\n",
       "</table>\n",
       "</div>"
      ],
      "text/plain": [
       "          Project  Technology  Capacity (MW)  Cost (Million $)    Location  \\\n",
       "0    Solar Farm A       Solar            150               200  California   \n",
       "1  Wind Turbine X        Wind            300               400       Texas   \n",
       "2    Hydropower Y  Hydropower            200               350  Washington   \n",
       "\n",
       "   Completion Year  \n",
       "0             2023  \n",
       "1             2024  \n",
       "2             2022  "
      ]
     },
     "execution_count": 63,
     "metadata": {},
     "output_type": "execute_result"
    }
   ],
   "source": [
    "high_capacity_projects=projects_df[projects_df[\"Capacity (MW)\"]>100]\n",
    "# print(high_capacity_projects)\n",
    "high_capacity_projects.head()\n",
    "# print(type(high_capacity_projects))"
   ]
  },
  {
   "cell_type": "code",
   "execution_count": 64,
   "metadata": {},
   "outputs": [],
   "source": [
    "projects_df[\"Cost_per_MW\"]=projects_df[\"Cost (Million $)\"]/projects_df[\"Capacity (MW)\"]"
   ]
  },
  {
   "cell_type": "code",
   "execution_count": 65,
   "metadata": {},
   "outputs": [
    {
     "data": {
      "text/html": [
       "<div>\n",
       "<style scoped>\n",
       "    .dataframe tbody tr th:only-of-type {\n",
       "        vertical-align: middle;\n",
       "    }\n",
       "\n",
       "    .dataframe tbody tr th {\n",
       "        vertical-align: top;\n",
       "    }\n",
       "\n",
       "    .dataframe thead th {\n",
       "        text-align: right;\n",
       "    }\n",
       "</style>\n",
       "<table border=\"1\" class=\"dataframe\">\n",
       "  <thead>\n",
       "    <tr style=\"text-align: right;\">\n",
       "      <th></th>\n",
       "      <th>Project</th>\n",
       "      <th>Technology</th>\n",
       "      <th>Capacity (MW)</th>\n",
       "      <th>Cost (Million $)</th>\n",
       "      <th>Location</th>\n",
       "      <th>Completion Year</th>\n",
       "      <th>Cost_per_MW</th>\n",
       "    </tr>\n",
       "  </thead>\n",
       "  <tbody>\n",
       "    <tr>\n",
       "      <th>0</th>\n",
       "      <td>Solar Farm A</td>\n",
       "      <td>Solar</td>\n",
       "      <td>150</td>\n",
       "      <td>200</td>\n",
       "      <td>California</td>\n",
       "      <td>2023</td>\n",
       "      <td>1.333333</td>\n",
       "    </tr>\n",
       "    <tr>\n",
       "      <th>1</th>\n",
       "      <td>Wind Turbine X</td>\n",
       "      <td>Wind</td>\n",
       "      <td>300</td>\n",
       "      <td>400</td>\n",
       "      <td>Texas</td>\n",
       "      <td>2024</td>\n",
       "      <td>1.333333</td>\n",
       "    </tr>\n",
       "    <tr>\n",
       "      <th>2</th>\n",
       "      <td>Hydropower Y</td>\n",
       "      <td>Hydropower</td>\n",
       "      <td>200</td>\n",
       "      <td>350</td>\n",
       "      <td>Washington</td>\n",
       "      <td>2022</td>\n",
       "      <td>1.750000</td>\n",
       "    </tr>\n",
       "    <tr>\n",
       "      <th>3</th>\n",
       "      <td>Solar Roof Z</td>\n",
       "      <td>Solar</td>\n",
       "      <td>50</td>\n",
       "      <td>100</td>\n",
       "      <td>Nevada</td>\n",
       "      <td>2025</td>\n",
       "      <td>2.000000</td>\n",
       "    </tr>\n",
       "    <tr>\n",
       "      <th>4</th>\n",
       "      <td>Geothermal Plant P</td>\n",
       "      <td>Geothermal</td>\n",
       "      <td>100</td>\n",
       "      <td>250</td>\n",
       "      <td>Idaho</td>\n",
       "      <td>2023</td>\n",
       "      <td>2.500000</td>\n",
       "    </tr>\n",
       "  </tbody>\n",
       "</table>\n",
       "</div>"
      ],
      "text/plain": [
       "              Project  Technology  Capacity (MW)  Cost (Million $)  \\\n",
       "0        Solar Farm A       Solar            150               200   \n",
       "1      Wind Turbine X        Wind            300               400   \n",
       "2        Hydropower Y  Hydropower            200               350   \n",
       "3        Solar Roof Z       Solar             50               100   \n",
       "4  Geothermal Plant P  Geothermal            100               250   \n",
       "\n",
       "     Location  Completion Year  Cost_per_MW  \n",
       "0  California             2023     1.333333  \n",
       "1       Texas             2024     1.333333  \n",
       "2  Washington             2022     1.750000  \n",
       "3      Nevada             2025     2.000000  \n",
       "4       Idaho             2023     2.500000  "
      ]
     },
     "execution_count": 65,
     "metadata": {},
     "output_type": "execute_result"
    }
   ],
   "source": [
    "projects_df.head()"
   ]
  },
  {
   "cell_type": "code",
   "execution_count": 66,
   "metadata": {},
   "outputs": [
    {
     "name": "stdout",
     "output_type": "stream",
     "text": [
      "total capacity 800\n",
      "total cost 1300\n"
     ]
    }
   ],
   "source": [
    "# Aggregation \n",
    "total_capacity=projects_df[\"Capacity (MW)\"].sum()\n",
    "total_cost=projects_df[\"Cost (Million $)\"].sum()\n",
    "print(f\"total capacity {total_capacity}\")\n",
    "print(f\"total cost {total_cost}\")"
   ]
  },
  {
   "cell_type": "code",
   "execution_count": 67,
   "metadata": {},
   "outputs": [
    {
     "name": "stdout",
     "output_type": "stream",
     "text": [
      "Total capacity by Technology : \n",
      "Technology\n",
      "Geothermal    100\n",
      "Hydropower    200\n",
      "Solar         200\n",
      "Wind          300\n",
      "Name: Capacity (MW), dtype: int64\n"
     ]
    }
   ],
   "source": [
    "grouped_data=projects_df.groupby(\"Technology\")[\"Capacity (MW)\"].sum()\n",
    "print(\"Total capacity by Technology : \")\n",
    "print(grouped_data)"
   ]
  },
  {
   "cell_type": "code",
   "execution_count": 69,
   "metadata": {},
   "outputs": [
    {
     "name": "stdout",
     "output_type": "stream",
     "text": [
      "Total cost by Technology : \n",
      "Technology\n",
      "Geothermal    250\n",
      "Hydropower    350\n",
      "Solar         300\n",
      "Wind          400\n",
      "Name: Cost (Million $), dtype: int64\n"
     ]
    }
   ],
   "source": [
    "grouped_data_cost=projects_df.groupby(\"Technology\")[\"Cost (Million $)\"].sum()\n",
    "print(\"Total cost by Technology : \")\n",
    "print(grouped_data_cost)"
   ]
  },
  {
   "cell_type": "code",
   "execution_count": 73,
   "metadata": {},
   "outputs": [
    {
     "name": "stdout",
     "output_type": "stream",
     "text": [
      "[1 2 3]\n"
     ]
    }
   ],
   "source": [
    "import numpy as np \n",
    "array=np.array([1,2,3])\n",
    "print(array)"
   ]
  },
  {
   "cell_type": "code",
   "execution_count": 86,
   "metadata": {},
   "outputs": [
    {
     "name": "stdout",
     "output_type": "stream",
     "text": [
      "[[[1 2 3]\n",
      "  [3 4 3]]\n",
      "\n",
      " [[1 2 3]\n",
      "  [3 4 3]]]\n"
     ]
    }
   ],
   "source": [
    "_2darray=np.array([\n",
    "    \n",
    "        [[1,2,3],[3,4,3]],\n",
    "        [[1,2,3],[3,4,3]]\n",
    "    ])\n",
    "print(_2darray)"
   ]
  },
  {
   "cell_type": "code",
   "execution_count": 83,
   "metadata": {},
   "outputs": [
    {
     "name": "stdout",
     "output_type": "stream",
     "text": [
      "(2, 2, 3)\n",
      "12\n",
      "int32\n",
      "4\n",
      "3\n"
     ]
    }
   ],
   "source": [
    "print(_2darray.shape)\n",
    "print(_2darray.size)\n",
    "print(_2darray.dtype)\n",
    "print(_2darray.itemsize)\n",
    "print(_2darray.ndim)"
   ]
  },
  {
   "cell_type": "code",
   "execution_count": 96,
   "metadata": {},
   "outputs": [
    {
     "name": "stdout",
     "output_type": "stream",
     "text": [
      "[1. 1. 1.] [0. 0. 0.] [[[0.00328994 0.22306417 0.70711739]\n",
      "  [0.84745532 0.87973983 0.51780535]]\n",
      "\n",
      " [[0.74120485 0.19005928 0.06984669]\n",
      "  [0.7208644  0.58603977 0.55772425]]]\n"
     ]
    }
   ],
   "source": [
    "x=np.ones(3)\n",
    "y=np.zeros(3)\n",
    "z=np.random.random(_2darray.shape)\n",
    "print(x,y,z)"
   ]
  },
  {
   "cell_type": "code",
   "execution_count": 103,
   "metadata": {},
   "outputs": [
    {
     "name": "stdout",
     "output_type": "stream",
     "text": [
      "[[1 1 1]\n",
      " [1 1 1]\n",
      " [1 1 1]]\n"
     ]
    }
   ],
   "source": [
    "array1=np.full((3,3),1)\n",
    "print(array1)"
   ]
  },
  {
   "cell_type": "code",
   "execution_count": 105,
   "metadata": {},
   "outputs": [
    {
     "name": "stdout",
     "output_type": "stream",
     "text": [
      "[[1. 0. 0.]\n",
      " [0. 1. 0.]\n",
      " [0. 0. 1.]]\n"
     ]
    }
   ],
   "source": [
    "array2=np.identity(3)\n",
    "print(array2)"
   ]
  },
  {
   "cell_type": "code",
   "execution_count": 108,
   "metadata": {},
   "outputs": [
    {
     "name": "stdout",
     "output_type": "stream",
     "text": [
      "[0 2 4 6 8]\n"
     ]
    }
   ],
   "source": [
    "arange_fun=np.arange(0,10,2)\n",
    "print(arange_fun)"
   ]
  },
  {
   "cell_type": "code",
   "execution_count": 115,
   "metadata": {},
   "outputs": [
    {
     "name": "stdout",
     "output_type": "stream",
     "text": [
      "[ 5.   7.5 10. ]\n",
      "3\n"
     ]
    }
   ],
   "source": [
    "linspace_matrix=np.linspace(5,10,3)\n",
    "print(linspace_matrix)\n",
    "print(linspace_matrix.size)"
   ]
  },
  {
   "cell_type": "code",
   "execution_count": 119,
   "metadata": {},
   "outputs": [
    {
     "name": "stdout",
     "output_type": "stream",
     "text": [
      "[ 1  2  3  4  5  6  7  9 10] sample array \n",
      "[ 1  2  3  4  5  6  7  9 10]\n",
      "[ 1  2  3  4  5  6  7  9 10]\n",
      "[ 1  3  5  7 10]\n",
      "[10  9  7  6  5  4  3  2  1]\n"
     ]
    }
   ],
   "source": [
    "data=np.array([1,2,3,4,5,6,7,9,10])\n",
    "print(data,\"sample array \")\n",
    "print(data[:])\n",
    "print(data[::1])\n",
    "print(data[::2])\n",
    "print(data[::-1])"
   ]
  },
  {
   "cell_type": "code",
   "execution_count": 121,
   "metadata": {},
   "outputs": [
    {
     "name": "stdout",
     "output_type": "stream",
     "text": [
      "not \n"
     ]
    },
    {
     "name": "stderr",
     "output_type": "stream",
     "text": [
      "C:\\Users\\jadit\\AppData\\Local\\Temp\\ipykernel_25024\\3348873089.py:8: DeprecationWarning: The truth value of an empty array is ambiguous. Returning False, but in future this will result in an error. Use `array.size > 0` to check that an array is not empty.\n",
      "  if a==b: print(\"palindrome \")\n"
     ]
    }
   ],
   "source": [
    "array_string=np.array([])\n",
    "s=input()\n",
    "def check_pal(string):\n",
    "    for c in string:\n",
    "        np.append(array_string, c)\n",
    "    a=array_string\n",
    "    b=array_string[::-1]\n",
    "    if a==b: print(\"palindrome \") \n",
    "    else : print(\"not \")\n",
    "check_pal(s)\n"
   ]
  },
  {
   "cell_type": "code",
   "execution_count": 124,
   "metadata": {},
   "outputs": [
    {
     "name": "stdout",
     "output_type": "stream",
     "text": [
      "[[ 1  2  3]\n",
      " [ 4  5  6]\n",
      " [ 7  9 10]]\n"
     ]
    }
   ],
   "source": [
    "a_new_array=np.array([1,2,3,4,5,6,7,9,10])\n",
    "# res_array=a_new_array.reshape(2,3)\n",
    "res1_array=a_new_array.reshape(3,3)\n",
    "# print(res_array)\n",
    "print(res1_array)"
   ]
  },
  {
   "cell_type": "code",
   "execution_count": 125,
   "metadata": {},
   "outputs": [
    {
     "name": "stdout",
     "output_type": "stream",
     "text": [
      "[[ 1  4  7]\n",
      " [ 2  5  9]\n",
      " [ 3  6 10]]\n"
     ]
    }
   ],
   "source": [
    "print(res1_array.T)"
   ]
  },
  {
   "cell_type": "code",
   "execution_count": 134,
   "metadata": {},
   "outputs": [
    {
     "name": "stdout",
     "output_type": "stream",
     "text": [
      "[ 1  2  3  4  5  6  7  9 10]\n",
      "[ 1  4  7  2  5  9  3  6 10]\n"
     ]
    }
   ],
   "source": [
    "print(res1_array.flatten())\n",
    "print(res1_array.flatten('F'))"
   ]
  },
  {
   "cell_type": "code",
   "execution_count": 135,
   "metadata": {},
   "outputs": [
    {
     "name": "stdout",
     "output_type": "stream",
     "text": [
      "5.222222222222222 5.0\n"
     ]
    }
   ],
   "source": [
    "# data manipulation \n",
    "\n",
    "data=np.array([1,2,3,4,5,6,7,9,10])\n",
    "\n",
    "mean=np.mean(data)\n",
    "median=np.median(data)\n",
    "print(mean,median)"
   ]
  },
  {
   "cell_type": "code",
   "execution_count": null,
   "metadata": {},
   "outputs": [],
   "source": [
    "energy_cons=np.array([1200,3400,2900,1800,2500])\n",
    "print(energy_cons)\n",
    "print(\"Energy consumption in MWH is \")\n",
    "print()"
   ]
  },
  {
   "cell_type": "code",
   "execution_count": 136,
   "metadata": {},
   "outputs": [
    {
     "name": "stdout",
     "output_type": "stream",
     "text": [
      "Mean energy consumption (kWh): 2360.0\n",
      "Median energy consumption (kWh): 2500.0\n",
      "Standard deviation of energy consumption (kWh): 781.2809993849844\n",
      "Variance of energy consumption (kWh): 610400.0\n"
     ]
    }
   ],
   "source": [
    "# Create an array for energy consumption (in kWh)\n",
    "energy_consumption = np.array([1200, 3400, 2900, 1800, 2500])\n",
    "\n",
    "# Calculate the mean\n",
    "mean_consumption = np.mean(energy_consumption)\n",
    "print(\"Mean energy consumption (kWh):\", mean_consumption)\n",
    "\n",
    "# Calculate the median\n",
    "median_consumption = np.median(energy_consumption)\n",
    "print(\"Median energy consumption (kWh):\", median_consumption)\n",
    "\n",
    "# Calculate the standard deviation\n",
    "std_dev_consumption = np.std(energy_consumption)\n",
    "print(\"Standard deviation of energy consumption (kWh):\", std_dev_consumption)\n",
    "\n",
    "# Calculate the variance\n",
    "variance_consumption = np.var(energy_consumption)\n",
    "print(\"Variance of energy consumption (kWh):\", variance_consumption)"
   ]
  }
 ],
 "metadata": {
  "kernelspec": {
   "display_name": "base",
   "language": "python",
   "name": "python3"
  },
  "language_info": {
   "codemirror_mode": {
    "name": "ipython",
    "version": 3
   },
   "file_extension": ".py",
   "mimetype": "text/x-python",
   "name": "python",
   "nbconvert_exporter": "python",
   "pygments_lexer": "ipython3",
   "version": "3.11.7"
  }
 },
 "nbformat": 4,
 "nbformat_minor": 2
}
